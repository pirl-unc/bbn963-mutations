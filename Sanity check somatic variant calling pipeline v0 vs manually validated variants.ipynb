{
 "cells": [
  {
   "cell_type": "code",
   "execution_count": 2,
   "id": "1e69307e",
   "metadata": {},
   "outputs": [
    {
     "name": "stderr",
     "output_type": "stream",
     "text": [
      "/var/folders/qm/qf74v01n2s12j3w0h1yrx4l00000gn/T/ipykernel_99170/3867939305.py:2: DtypeWarning: Columns (26) have mixed types. Specify dtype option on import or set low_memory=False.\n",
      "  df = pd.read_csv(\"data/bbn963-biorep1-pacbio-wgs_minimap2_mdtagged_sorted_merged_variants_refined_hq_somatic.tsv\", sep=\"\\t\")\n"
     ]
    }
   ],
   "source": [
    "import pandas as pd\n",
    "df = pd.read_csv(\"data/bbn963-biorep1-pacbio-wgs_minimap2_mdtagged_sorted_merged_variants_refined_hq_somatic.tsv\", sep=\"\\t\")"
   ]
  },
  {
   "cell_type": "code",
   "execution_count": 3,
   "id": "24c4ca3c",
   "metadata": {},
   "outputs": [
    {
     "data": {
      "text/plain": [
       "'\\n# copying these all over into a uniform list\\nmutations = [\\n    dict(contig=\"chr1\",\\n         pos=,\\n         change=,\\n         normal_dna=False,\\n         tumor_dna=True,\\n         tumor_rna=True),\\n    dict(contig=\"chr1\",\\n         pos=,\\n         change=,\\n         normal_dna=False,\\n         tumor_dna=True,\\n         tumor_rna=True),\\n]\\n    \\n'"
      ]
     },
     "execution_count": 3,
     "metadata": {},
     "output_type": "execute_result"
    }
   ],
   "source": [
    "\n",
    "\n",
    "\n",
    "# variants called by the previous pipeline which we checked manually in IGV\n",
    "\n",
    "\n",
    "somatic_rna_support = [\n",
    "    \"chr1 136234037 delTTCATTTAACTTCGGCATTTGCAGCATCCCAAATG\",\n",
    "    \"chr1 135450611 insT\",\n",
    "    \n",
    "]\n",
    "\n",
    "somatic_no_rna = [\n",
    "    \"chr14 3827585 insA\",\n",
    "    \n",
    "]\n",
    "\n",
    "germline = [\n",
    "    \"chrX 170673780 delG\",\n",
    "    \n",
    "    \"chr2 177475031 delTGTAACCACTGTGGTAAAGCCTTTGCAGAAAGCAGTACTCTCCAAATCCATAAGCGAAAACATACAGGAGACGAACCATATGAA\",\n",
    "]\n",
    "\n",
    "no_dna_evidence_but_in_rna = [\n",
    "    \"chr5 125386596 insAATGGTGTCACTGGGCTCGACCTCCAGGGTGATGGTTTTGCCTGTCAGGGTCTTCACAAAGATCTGCATCCCACCTCTGAGGCGAAGGACTAAGTGCAGGGTGGACTCTTTCTGGATGTTGTAGTCTGACAGGGTGCGGCCATCTTCCAGCTGCTTGCCTGCAAAGATCAGCCTCTGCTGGTCAGGGGGGATGCCCTCCTTGTCCTGGATCTTTGCCTTGACATTCTC\",\n",
    "    \n",
    "]\n",
    "\n",
    "\n",
    "insertion_expanded_in_tumor = [\n",
    "    # 84bp insertion sometimes expanded to 420bp in tumor\n",
    "    \"chr4 146196749 insAGAATTCATGCAGGAGAGAAACCTTACAAATGTAGTGAATGTGACAAATGTTTTACTGAGAAAAACAGTCTGAGAAGGCATCAG\",\n",
    "]\n",
    "\n",
    "\"\"\"\n",
    "# copying these all over into a uniform list\n",
    "mutations = [\n",
    "    dict(contig=\"chr1\",\n",
    "         pos=,\n",
    "         change=,\n",
    "         normal_dna=False,\n",
    "         tumor_dna=True,\n",
    "         tumor_rna=True),\n",
    "    dict(contig=\"chr1\",\n",
    "         pos=,\n",
    "         change=,\n",
    "         normal_dna=False,\n",
    "         tumor_dna=True,\n",
    "         tumor_rna=True),\n",
    "]\n",
    "    \n",
    "\"\"\""
   ]
  },
  {
   "cell_type": "code",
   "execution_count": 6,
   "id": "883ddb30",
   "metadata": {},
   "outputs": [],
   "source": [
    "df_chr1 = df[(df.chromosome_1 == \"chr1\")]\n",
    "              "
   ]
  },
  {
   "cell_type": "code",
   "execution_count": 11,
   "id": "3d25c3d8",
   "metadata": {},
   "outputs": [
    {
     "data": {
      "text/html": [
       "<div>\n",
       "<style scoped>\n",
       "    .dataframe tbody tr th:only-of-type {\n",
       "        vertical-align: middle;\n",
       "    }\n",
       "\n",
       "    .dataframe tbody tr th {\n",
       "        vertical-align: top;\n",
       "    }\n",
       "\n",
       "    .dataframe thead th {\n",
       "        text-align: right;\n",
       "    }\n",
       "</style>\n",
       "<table border=\"1\" class=\"dataframe\">\n",
       "  <thead>\n",
       "    <tr style=\"text-align: right;\">\n",
       "      <th></th>\n",
       "      <th>variant_id</th>\n",
       "      <th>variant_call_id</th>\n",
       "      <th>source_id</th>\n",
       "      <th>sample_id</th>\n",
       "      <th>phase_block_id</th>\n",
       "      <th>clone_id</th>\n",
       "      <th>nucleic_acid</th>\n",
       "      <th>variant_calling_method</th>\n",
       "      <th>sequencing_platform</th>\n",
       "      <th>chromosome_1</th>\n",
       "      <th>...</th>\n",
       "      <th>position_2_annotation_source</th>\n",
       "      <th>position_2_annotation_source_version</th>\n",
       "      <th>position_2_annotation_gene_id</th>\n",
       "      <th>position_2_annotation_gene_stable_id</th>\n",
       "      <th>position_2_annotation_gene_version</th>\n",
       "      <th>position_2_annotation_gene_name</th>\n",
       "      <th>position_2_annotation_gene_type</th>\n",
       "      <th>position_2_annotation_gene_strand</th>\n",
       "      <th>position_2_annotation_species</th>\n",
       "      <th>tags</th>\n",
       "    </tr>\n",
       "  </thead>\n",
       "  <tbody>\n",
       "  </tbody>\n",
       "</table>\n",
       "<p>0 rows × 49 columns</p>\n",
       "</div>"
      ],
      "text/plain": [
       "Empty DataFrame\n",
       "Columns: [variant_id, variant_call_id, source_id, sample_id, phase_block_id, clone_id, nucleic_acid, variant_calling_method, sequencing_platform, chromosome_1, position_1, chromosome_2, position_2, reference_allele, alternate_allele, filter, quality_score, precise, variant_type, variant_subtype, variant_size, variant_sequences, total_read_count, reference_allele_read_count, alternate_allele_read_count, alternate_allele_fraction, alternate_allele_read_ids, tool_attributes, position_1_annotation_region, position_1_annotation_source, position_1_annotation_source_version, position_1_annotation_gene_id, position_1_annotation_gene_stable_id, position_1_annotation_gene_version, position_1_annotation_gene_name, position_1_annotation_gene_type, position_1_annotation_gene_strand, position_1_annotation_species, position_2_annotation_region, position_2_annotation_source, position_2_annotation_source_version, position_2_annotation_gene_id, position_2_annotation_gene_stable_id, position_2_annotation_gene_version, position_2_annotation_gene_name, position_2_annotation_gene_type, position_2_annotation_gene_strand, position_2_annotation_species, tags]\n",
       "Index: []\n",
       "\n",
       "[0 rows x 49 columns]"
      ]
     },
     "execution_count": 11,
     "metadata": {},
     "output_type": "execute_result"
    }
   ],
   "source": [
    "df[(df.position_1 == \"chr1\") & ((df.position_1 - 136234037).abs() <= 1000)]"
   ]
  },
  {
   "cell_type": "code",
   "execution_count": 12,
   "id": "a16c5886",
   "metadata": {},
   "outputs": [
    {
     "data": {
      "text/html": [
       "<div>\n",
       "<style scoped>\n",
       "    .dataframe tbody tr th:only-of-type {\n",
       "        vertical-align: middle;\n",
       "    }\n",
       "\n",
       "    .dataframe tbody tr th {\n",
       "        vertical-align: top;\n",
       "    }\n",
       "\n",
       "    .dataframe thead th {\n",
       "        text-align: right;\n",
       "    }\n",
       "</style>\n",
       "<table border=\"1\" class=\"dataframe\">\n",
       "  <thead>\n",
       "    <tr style=\"text-align: right;\">\n",
       "      <th></th>\n",
       "      <th>variant_id</th>\n",
       "      <th>variant_call_id</th>\n",
       "      <th>source_id</th>\n",
       "      <th>sample_id</th>\n",
       "      <th>phase_block_id</th>\n",
       "      <th>clone_id</th>\n",
       "      <th>nucleic_acid</th>\n",
       "      <th>variant_calling_method</th>\n",
       "      <th>sequencing_platform</th>\n",
       "      <th>chromosome_1</th>\n",
       "      <th>...</th>\n",
       "      <th>position_2_annotation_source</th>\n",
       "      <th>position_2_annotation_source_version</th>\n",
       "      <th>position_2_annotation_gene_id</th>\n",
       "      <th>position_2_annotation_gene_stable_id</th>\n",
       "      <th>position_2_annotation_gene_version</th>\n",
       "      <th>position_2_annotation_gene_name</th>\n",
       "      <th>position_2_annotation_gene_type</th>\n",
       "      <th>position_2_annotation_gene_strand</th>\n",
       "      <th>position_2_annotation_species</th>\n",
       "      <th>tags</th>\n",
       "    </tr>\n",
       "  </thead>\n",
       "  <tbody>\n",
       "  </tbody>\n",
       "</table>\n",
       "<p>0 rows × 49 columns</p>\n",
       "</div>"
      ],
      "text/plain": [
       "Empty DataFrame\n",
       "Columns: [variant_id, variant_call_id, source_id, sample_id, phase_block_id, clone_id, nucleic_acid, variant_calling_method, sequencing_platform, chromosome_1, position_1, chromosome_2, position_2, reference_allele, alternate_allele, filter, quality_score, precise, variant_type, variant_subtype, variant_size, variant_sequences, total_read_count, reference_allele_read_count, alternate_allele_read_count, alternate_allele_fraction, alternate_allele_read_ids, tool_attributes, position_1_annotation_region, position_1_annotation_source, position_1_annotation_source_version, position_1_annotation_gene_id, position_1_annotation_gene_stable_id, position_1_annotation_gene_version, position_1_annotation_gene_name, position_1_annotation_gene_type, position_1_annotation_gene_strand, position_1_annotation_species, position_2_annotation_region, position_2_annotation_source, position_2_annotation_source_version, position_2_annotation_gene_id, position_2_annotation_gene_stable_id, position_2_annotation_gene_version, position_2_annotation_gene_name, position_2_annotation_gene_type, position_2_annotation_gene_strand, position_2_annotation_species, tags]\n",
       "Index: []\n",
       "\n",
       "[0 rows x 49 columns]"
      ]
     },
     "execution_count": 12,
     "metadata": {},
     "output_type": "execute_result"
    }
   ],
   "source": [
    "df[(df.position_1 == \"chr1\") & ((df.position_1 - 135450611).abs() <= 1000)]"
   ]
  },
  {
   "cell_type": "code",
   "execution_count": 13,
   "id": "64d1771c",
   "metadata": {},
   "outputs": [
    {
     "data": {
      "text/html": [
       "<div>\n",
       "<style scoped>\n",
       "    .dataframe tbody tr th:only-of-type {\n",
       "        vertical-align: middle;\n",
       "    }\n",
       "\n",
       "    .dataframe tbody tr th {\n",
       "        vertical-align: top;\n",
       "    }\n",
       "\n",
       "    .dataframe thead th {\n",
       "        text-align: right;\n",
       "    }\n",
       "</style>\n",
       "<table border=\"1\" class=\"dataframe\">\n",
       "  <thead>\n",
       "    <tr style=\"text-align: right;\">\n",
       "      <th></th>\n",
       "      <th>variant_id</th>\n",
       "      <th>variant_call_id</th>\n",
       "      <th>source_id</th>\n",
       "      <th>sample_id</th>\n",
       "      <th>phase_block_id</th>\n",
       "      <th>clone_id</th>\n",
       "      <th>nucleic_acid</th>\n",
       "      <th>variant_calling_method</th>\n",
       "      <th>sequencing_platform</th>\n",
       "      <th>chromosome_1</th>\n",
       "      <th>...</th>\n",
       "      <th>position_2_annotation_source</th>\n",
       "      <th>position_2_annotation_source_version</th>\n",
       "      <th>position_2_annotation_gene_id</th>\n",
       "      <th>position_2_annotation_gene_stable_id</th>\n",
       "      <th>position_2_annotation_gene_version</th>\n",
       "      <th>position_2_annotation_gene_name</th>\n",
       "      <th>position_2_annotation_gene_type</th>\n",
       "      <th>position_2_annotation_gene_strand</th>\n",
       "      <th>position_2_annotation_species</th>\n",
       "      <th>tags</th>\n",
       "    </tr>\n",
       "  </thead>\n",
       "  <tbody>\n",
       "  </tbody>\n",
       "</table>\n",
       "<p>0 rows × 49 columns</p>\n",
       "</div>"
      ],
      "text/plain": [
       "Empty DataFrame\n",
       "Columns: [variant_id, variant_call_id, source_id, sample_id, phase_block_id, clone_id, nucleic_acid, variant_calling_method, sequencing_platform, chromosome_1, position_1, chromosome_2, position_2, reference_allele, alternate_allele, filter, quality_score, precise, variant_type, variant_subtype, variant_size, variant_sequences, total_read_count, reference_allele_read_count, alternate_allele_read_count, alternate_allele_fraction, alternate_allele_read_ids, tool_attributes, position_1_annotation_region, position_1_annotation_source, position_1_annotation_source_version, position_1_annotation_gene_id, position_1_annotation_gene_stable_id, position_1_annotation_gene_version, position_1_annotation_gene_name, position_1_annotation_gene_type, position_1_annotation_gene_strand, position_1_annotation_species, position_2_annotation_region, position_2_annotation_source, position_2_annotation_source_version, position_2_annotation_gene_id, position_2_annotation_gene_stable_id, position_2_annotation_gene_version, position_2_annotation_gene_name, position_2_annotation_gene_type, position_2_annotation_gene_strand, position_2_annotation_species, tags]\n",
       "Index: []\n",
       "\n",
       "[0 rows x 49 columns]"
      ]
     },
     "execution_count": 13,
     "metadata": {},
     "output_type": "execute_result"
    }
   ],
   "source": [
    "df[(df.position_1 == \"chr14\") & ((df.position_1 - 3827585).abs() <= 1000)]"
   ]
  },
  {
   "cell_type": "code",
   "execution_count": 14,
   "id": "7e26fa32",
   "metadata": {},
   "outputs": [
    {
     "data": {
      "text/html": [
       "<div>\n",
       "<style scoped>\n",
       "    .dataframe tbody tr th:only-of-type {\n",
       "        vertical-align: middle;\n",
       "    }\n",
       "\n",
       "    .dataframe tbody tr th {\n",
       "        vertical-align: top;\n",
       "    }\n",
       "\n",
       "    .dataframe thead th {\n",
       "        text-align: right;\n",
       "    }\n",
       "</style>\n",
       "<table border=\"1\" class=\"dataframe\">\n",
       "  <thead>\n",
       "    <tr style=\"text-align: right;\">\n",
       "      <th></th>\n",
       "      <th>variant_id</th>\n",
       "      <th>variant_call_id</th>\n",
       "      <th>source_id</th>\n",
       "      <th>sample_id</th>\n",
       "      <th>phase_block_id</th>\n",
       "      <th>clone_id</th>\n",
       "      <th>nucleic_acid</th>\n",
       "      <th>variant_calling_method</th>\n",
       "      <th>sequencing_platform</th>\n",
       "      <th>chromosome_1</th>\n",
       "      <th>...</th>\n",
       "      <th>position_2_annotation_source</th>\n",
       "      <th>position_2_annotation_source_version</th>\n",
       "      <th>position_2_annotation_gene_id</th>\n",
       "      <th>position_2_annotation_gene_stable_id</th>\n",
       "      <th>position_2_annotation_gene_version</th>\n",
       "      <th>position_2_annotation_gene_name</th>\n",
       "      <th>position_2_annotation_gene_type</th>\n",
       "      <th>position_2_annotation_gene_strand</th>\n",
       "      <th>position_2_annotation_species</th>\n",
       "      <th>tags</th>\n",
       "    </tr>\n",
       "  </thead>\n",
       "  <tbody>\n",
       "  </tbody>\n",
       "</table>\n",
       "<p>0 rows × 49 columns</p>\n",
       "</div>"
      ],
      "text/plain": [
       "Empty DataFrame\n",
       "Columns: [variant_id, variant_call_id, source_id, sample_id, phase_block_id, clone_id, nucleic_acid, variant_calling_method, sequencing_platform, chromosome_1, position_1, chromosome_2, position_2, reference_allele, alternate_allele, filter, quality_score, precise, variant_type, variant_subtype, variant_size, variant_sequences, total_read_count, reference_allele_read_count, alternate_allele_read_count, alternate_allele_fraction, alternate_allele_read_ids, tool_attributes, position_1_annotation_region, position_1_annotation_source, position_1_annotation_source_version, position_1_annotation_gene_id, position_1_annotation_gene_stable_id, position_1_annotation_gene_version, position_1_annotation_gene_name, position_1_annotation_gene_type, position_1_annotation_gene_strand, position_1_annotation_species, position_2_annotation_region, position_2_annotation_source, position_2_annotation_source_version, position_2_annotation_gene_id, position_2_annotation_gene_stable_id, position_2_annotation_gene_version, position_2_annotation_gene_name, position_2_annotation_gene_type, position_2_annotation_gene_strand, position_2_annotation_species, tags]\n",
       "Index: []\n",
       "\n",
       "[0 rows x 49 columns]"
      ]
     },
     "execution_count": 14,
     "metadata": {},
     "output_type": "execute_result"
    }
   ],
   "source": [
    "df[(df.position_1 == \"chrX\") & ((df.position_1 - 170673780).abs() <= 1000)]"
   ]
  },
  {
   "cell_type": "code",
   "execution_count": 15,
   "id": "57fa09b3",
   "metadata": {},
   "outputs": [
    {
     "data": {
      "text/html": [
       "<div>\n",
       "<style scoped>\n",
       "    .dataframe tbody tr th:only-of-type {\n",
       "        vertical-align: middle;\n",
       "    }\n",
       "\n",
       "    .dataframe tbody tr th {\n",
       "        vertical-align: top;\n",
       "    }\n",
       "\n",
       "    .dataframe thead th {\n",
       "        text-align: right;\n",
       "    }\n",
       "</style>\n",
       "<table border=\"1\" class=\"dataframe\">\n",
       "  <thead>\n",
       "    <tr style=\"text-align: right;\">\n",
       "      <th></th>\n",
       "      <th>variant_id</th>\n",
       "      <th>variant_call_id</th>\n",
       "      <th>source_id</th>\n",
       "      <th>sample_id</th>\n",
       "      <th>phase_block_id</th>\n",
       "      <th>clone_id</th>\n",
       "      <th>nucleic_acid</th>\n",
       "      <th>variant_calling_method</th>\n",
       "      <th>sequencing_platform</th>\n",
       "      <th>chromosome_1</th>\n",
       "      <th>...</th>\n",
       "      <th>position_2_annotation_source</th>\n",
       "      <th>position_2_annotation_source_version</th>\n",
       "      <th>position_2_annotation_gene_id</th>\n",
       "      <th>position_2_annotation_gene_stable_id</th>\n",
       "      <th>position_2_annotation_gene_version</th>\n",
       "      <th>position_2_annotation_gene_name</th>\n",
       "      <th>position_2_annotation_gene_type</th>\n",
       "      <th>position_2_annotation_gene_strand</th>\n",
       "      <th>position_2_annotation_species</th>\n",
       "      <th>tags</th>\n",
       "    </tr>\n",
       "  </thead>\n",
       "  <tbody>\n",
       "  </tbody>\n",
       "</table>\n",
       "<p>0 rows × 49 columns</p>\n",
       "</div>"
      ],
      "text/plain": [
       "Empty DataFrame\n",
       "Columns: [variant_id, variant_call_id, source_id, sample_id, phase_block_id, clone_id, nucleic_acid, variant_calling_method, sequencing_platform, chromosome_1, position_1, chromosome_2, position_2, reference_allele, alternate_allele, filter, quality_score, precise, variant_type, variant_subtype, variant_size, variant_sequences, total_read_count, reference_allele_read_count, alternate_allele_read_count, alternate_allele_fraction, alternate_allele_read_ids, tool_attributes, position_1_annotation_region, position_1_annotation_source, position_1_annotation_source_version, position_1_annotation_gene_id, position_1_annotation_gene_stable_id, position_1_annotation_gene_version, position_1_annotation_gene_name, position_1_annotation_gene_type, position_1_annotation_gene_strand, position_1_annotation_species, position_2_annotation_region, position_2_annotation_source, position_2_annotation_source_version, position_2_annotation_gene_id, position_2_annotation_gene_stable_id, position_2_annotation_gene_version, position_2_annotation_gene_name, position_2_annotation_gene_type, position_2_annotation_gene_strand, position_2_annotation_species, tags]\n",
       "Index: []\n",
       "\n",
       "[0 rows x 49 columns]"
      ]
     },
     "execution_count": 15,
     "metadata": {},
     "output_type": "execute_result"
    }
   ],
   "source": [
    "df[(df.position_1 == \"chr2\") & ((df.position_1 - 177475031).abs() <= 1000)]"
   ]
  },
  {
   "cell_type": "code",
   "execution_count": 16,
   "id": "1d8e0262",
   "metadata": {},
   "outputs": [
    {
     "data": {
      "text/html": [
       "<div>\n",
       "<style scoped>\n",
       "    .dataframe tbody tr th:only-of-type {\n",
       "        vertical-align: middle;\n",
       "    }\n",
       "\n",
       "    .dataframe tbody tr th {\n",
       "        vertical-align: top;\n",
       "    }\n",
       "\n",
       "    .dataframe thead th {\n",
       "        text-align: right;\n",
       "    }\n",
       "</style>\n",
       "<table border=\"1\" class=\"dataframe\">\n",
       "  <thead>\n",
       "    <tr style=\"text-align: right;\">\n",
       "      <th></th>\n",
       "      <th>variant_id</th>\n",
       "      <th>variant_call_id</th>\n",
       "      <th>source_id</th>\n",
       "      <th>sample_id</th>\n",
       "      <th>phase_block_id</th>\n",
       "      <th>clone_id</th>\n",
       "      <th>nucleic_acid</th>\n",
       "      <th>variant_calling_method</th>\n",
       "      <th>sequencing_platform</th>\n",
       "      <th>chromosome_1</th>\n",
       "      <th>...</th>\n",
       "      <th>position_2_annotation_source</th>\n",
       "      <th>position_2_annotation_source_version</th>\n",
       "      <th>position_2_annotation_gene_id</th>\n",
       "      <th>position_2_annotation_gene_stable_id</th>\n",
       "      <th>position_2_annotation_gene_version</th>\n",
       "      <th>position_2_annotation_gene_name</th>\n",
       "      <th>position_2_annotation_gene_type</th>\n",
       "      <th>position_2_annotation_gene_strand</th>\n",
       "      <th>position_2_annotation_species</th>\n",
       "      <th>tags</th>\n",
       "    </tr>\n",
       "  </thead>\n",
       "  <tbody>\n",
       "  </tbody>\n",
       "</table>\n",
       "<p>0 rows × 49 columns</p>\n",
       "</div>"
      ],
      "text/plain": [
       "Empty DataFrame\n",
       "Columns: [variant_id, variant_call_id, source_id, sample_id, phase_block_id, clone_id, nucleic_acid, variant_calling_method, sequencing_platform, chromosome_1, position_1, chromosome_2, position_2, reference_allele, alternate_allele, filter, quality_score, precise, variant_type, variant_subtype, variant_size, variant_sequences, total_read_count, reference_allele_read_count, alternate_allele_read_count, alternate_allele_fraction, alternate_allele_read_ids, tool_attributes, position_1_annotation_region, position_1_annotation_source, position_1_annotation_source_version, position_1_annotation_gene_id, position_1_annotation_gene_stable_id, position_1_annotation_gene_version, position_1_annotation_gene_name, position_1_annotation_gene_type, position_1_annotation_gene_strand, position_1_annotation_species, position_2_annotation_region, position_2_annotation_source, position_2_annotation_source_version, position_2_annotation_gene_id, position_2_annotation_gene_stable_id, position_2_annotation_gene_version, position_2_annotation_gene_name, position_2_annotation_gene_type, position_2_annotation_gene_strand, position_2_annotation_species, tags]\n",
       "Index: []\n",
       "\n",
       "[0 rows x 49 columns]"
      ]
     },
     "execution_count": 16,
     "metadata": {},
     "output_type": "execute_result"
    }
   ],
   "source": [
    "df[(df.position_1 == \"chr5\") & ((df.position_1 - 125386596).abs() <= 1000)]"
   ]
  },
  {
   "cell_type": "code",
   "execution_count": 17,
   "id": "dd51f32b",
   "metadata": {},
   "outputs": [
    {
     "data": {
      "text/html": [
       "<div>\n",
       "<style scoped>\n",
       "    .dataframe tbody tr th:only-of-type {\n",
       "        vertical-align: middle;\n",
       "    }\n",
       "\n",
       "    .dataframe tbody tr th {\n",
       "        vertical-align: top;\n",
       "    }\n",
       "\n",
       "    .dataframe thead th {\n",
       "        text-align: right;\n",
       "    }\n",
       "</style>\n",
       "<table border=\"1\" class=\"dataframe\">\n",
       "  <thead>\n",
       "    <tr style=\"text-align: right;\">\n",
       "      <th></th>\n",
       "      <th>variant_id</th>\n",
       "      <th>variant_call_id</th>\n",
       "      <th>source_id</th>\n",
       "      <th>sample_id</th>\n",
       "      <th>phase_block_id</th>\n",
       "      <th>clone_id</th>\n",
       "      <th>nucleic_acid</th>\n",
       "      <th>variant_calling_method</th>\n",
       "      <th>sequencing_platform</th>\n",
       "      <th>chromosome_1</th>\n",
       "      <th>...</th>\n",
       "      <th>position_2_annotation_source</th>\n",
       "      <th>position_2_annotation_source_version</th>\n",
       "      <th>position_2_annotation_gene_id</th>\n",
       "      <th>position_2_annotation_gene_stable_id</th>\n",
       "      <th>position_2_annotation_gene_version</th>\n",
       "      <th>position_2_annotation_gene_name</th>\n",
       "      <th>position_2_annotation_gene_type</th>\n",
       "      <th>position_2_annotation_gene_strand</th>\n",
       "      <th>position_2_annotation_species</th>\n",
       "      <th>tags</th>\n",
       "    </tr>\n",
       "  </thead>\n",
       "  <tbody>\n",
       "  </tbody>\n",
       "</table>\n",
       "<p>0 rows × 49 columns</p>\n",
       "</div>"
      ],
      "text/plain": [
       "Empty DataFrame\n",
       "Columns: [variant_id, variant_call_id, source_id, sample_id, phase_block_id, clone_id, nucleic_acid, variant_calling_method, sequencing_platform, chromosome_1, position_1, chromosome_2, position_2, reference_allele, alternate_allele, filter, quality_score, precise, variant_type, variant_subtype, variant_size, variant_sequences, total_read_count, reference_allele_read_count, alternate_allele_read_count, alternate_allele_fraction, alternate_allele_read_ids, tool_attributes, position_1_annotation_region, position_1_annotation_source, position_1_annotation_source_version, position_1_annotation_gene_id, position_1_annotation_gene_stable_id, position_1_annotation_gene_version, position_1_annotation_gene_name, position_1_annotation_gene_type, position_1_annotation_gene_strand, position_1_annotation_species, position_2_annotation_region, position_2_annotation_source, position_2_annotation_source_version, position_2_annotation_gene_id, position_2_annotation_gene_stable_id, position_2_annotation_gene_version, position_2_annotation_gene_name, position_2_annotation_gene_type, position_2_annotation_gene_strand, position_2_annotation_species, tags]\n",
       "Index: []\n",
       "\n",
       "[0 rows x 49 columns]"
      ]
     },
     "execution_count": 17,
     "metadata": {},
     "output_type": "execute_result"
    }
   ],
   "source": [
    "df[(df.position_1 == \"chr4\") & ((df.position_1 - 146196749).abs() <= 1000)]"
   ]
  },
  {
   "cell_type": "code",
   "execution_count": 19,
   "id": "cee17a38",
   "metadata": {},
   "outputs": [
    {
     "data": {
      "text/plain": [
       "deepvariant    794087\n",
       "cutesv             92\n",
       "sniffles2          66\n",
       "Name: variant_calling_method, dtype: int64"
      ]
     },
     "execution_count": 19,
     "metadata": {},
     "output_type": "execute_result"
    }
   ],
   "source": [
    "df.variant_calling_method.value_counts()"
   ]
  },
  {
   "cell_type": "code",
   "execution_count": null,
   "id": "2d23c210",
   "metadata": {},
   "outputs": [],
   "source": []
  }
 ],
 "metadata": {
  "kernelspec": {
   "display_name": "Python 3 (ipykernel)",
   "language": "python",
   "name": "python3"
  },
  "language_info": {
   "codemirror_mode": {
    "name": "ipython",
    "version": 3
   },
   "file_extension": ".py",
   "mimetype": "text/x-python",
   "name": "python",
   "nbconvert_exporter": "python",
   "pygments_lexer": "ipython3",
   "version": "3.10.10"
  }
 },
 "nbformat": 4,
 "nbformat_minor": 5
}
